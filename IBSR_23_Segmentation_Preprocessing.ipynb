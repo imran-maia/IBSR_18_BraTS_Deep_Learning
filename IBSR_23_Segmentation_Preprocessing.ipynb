{
 "cells": [
  {
   "cell_type": "markdown",
   "id": "f5f49c90",
   "metadata": {},
   "source": [
    "# IBSR_23:Brain Tissue Segmentation Using Deep Learning\n",
    "Author(s): **Mohammad Imran Hossain, Muhammad Zain Amin**\n",
    "<br>University of Girona, Spain\n",
    "<br>Erasmus Mundus Joint Master Degree in Medical Imaging and Applications"
   ]
  },
  {
   "cell_type": "markdown",
   "id": "e8c3ca36",
   "metadata": {},
   "source": [
    "# Necessary Libraries"
   ]
  },
  {
   "cell_type": "code",
   "execution_count": 49,
   "id": "f263b68a",
   "metadata": {},
   "outputs": [],
   "source": [
    "# Import all the necessary libraries\n",
    "import os\n",
    "import cv2\n",
    "import glob\n",
    "import random\n",
    "import tqdm \n",
    "import scipy.misc\n",
    "import numpy as np\n",
    "from tqdm import tqdm\n",
    "import SimpleITK as sitk\n",
    "from scipy import ndimage\n",
    "from pathlib import Path\n",
    "from matplotlib import pyplot as plt\n",
    "\n",
    "import warnings"
   ]
  },
  {
   "cell_type": "markdown",
   "id": "736923dc",
   "metadata": {},
   "source": [
    "# Import Dataset\n",
    "- **Load the train and validation dataset from the dirctory**"
   ]
  },
  {
   "cell_type": "code",
   "execution_count": 10,
   "id": "d52d492f",
   "metadata": {},
   "outputs": [],
   "source": [
    "# Define the path of the train and validation dataset directory\n",
    "TRAIN_DATA_PATH = Path('D:/Erasmus Mundus Masters/University of Girona/Medical Image Segmentation/IBSR_23_Brain_Tissue_Segmentation/Dataset/Training_Set')\n",
    "VALID_DATA_PATH = Path('D:/Erasmus Mundus Masters/University of Girona/Medical Image Segmentation/IBSR_23_Brain_Tissue_Segmentation/Dataset/Validation_Set')"
   ]
  },
  {
   "cell_type": "code",
   "execution_count": 39,
   "id": "7ebff63d",
   "metadata": {},
   "outputs": [
    {
     "name": "stderr",
     "output_type": "stream",
     "text": [
      "Preprocessing Progress: 100%|██████████████████████████████████████████████████████████| 10/10 [14:04<00:00, 84.44s/it]\n",
      "Preprocessing Progress: 100%|███████████████████████████████████████████████████████████| 5/5 [08:35<00:00, 103.12s/it]\n"
     ]
    }
   ],
   "source": [
    "# Define a function to load image dataset from a directory\n",
    "def bias_field_corrector(data_path):\n",
    "    \"\"\"\n",
    "    Load image and label data from a specified directory path.\n",
    "\n",
    "    Args:\n",
    "    - image_size : Image dimensions (depth, height, width).\n",
    "    - data_path  : Path of the directory containing image and label data.\n",
    "\n",
    "    Returns:\n",
    "    - images     :  List of images.\n",
    "                           Shape: (num_images, depth, height, width, channels)\n",
    "    - labels     :  List of labels.\n",
    "                           Shape: (num_images, depth, height, width, channels)\n",
    "    \"\"\"\n",
    "    # Count the number of images in the data path\n",
    "    num_images = len(list(data_path.iterdir()))\n",
    "    \n",
    "    # Progress bar initialization\n",
    "    with tqdm(total=num_images, desc='Preprocessing Progress') as pbar:\n",
    "        idx = 0  \n",
    "        # Loop through each image in the data path\n",
    "        for image_path in data_path.iterdir():\n",
    "            \n",
    "            # Extract the image ID and define the image path\n",
    "            image_id    = image_path.name  \n",
    "            image_path  = data_path / image_id / f'{image_id}.nii.gz'  \n",
    "            save_image_path = data_path / image_id / f'{image_id}_bias.nii.gz'\n",
    "            \n",
    "            # Read the image and convert into array\n",
    "            inputImage  = sitk.ReadImage(str(image_path))\n",
    "            maskImage   = sitk.OtsuThreshold(inputImage,0,1,200)\n",
    "            inputImage  = sitk.Cast(inputImage,sitk.sitkFloat32)\n",
    "            corrector   = sitk.N4BiasFieldCorrectionImageFilter();\n",
    "            output      = corrector.Execute(inputImage,maskImage)\n",
    "\n",
    "            sitk.WriteImage(output,save_image_path)\n",
    "\n",
    "            idx += 1  \n",
    "            pbar.update(1) \n",
    "\n",
    "\n",
    "bias_field_corrector(TRAIN_DATA_PATH)\n",
    "bias_field_corrector(VALID_DATA_PATH)"
   ]
  },
  {
   "cell_type": "code",
   "execution_count": 45,
   "id": "fb669c6e-6564-4c96-ba4e-90f87dd4ad45",
   "metadata": {},
   "outputs": [
    {
     "name": "stderr",
     "output_type": "stream",
     "text": [
      "Loading Progress: 100%|████████████████████████████████████████████████████████████████| 10/10 [00:01<00:00,  8.80it/s]\n",
      "Loading Progress: 100%|██████████████████████████████████████████████████████████████████| 5/5 [00:00<00:00,  8.40it/s]\n"
     ]
    }
   ],
   "source": [
    "# Define a function to load image dataset from a directory\n",
    "def load_data(image_size, data_path):\n",
    "    \"\"\"\n",
    "    Load image and label data from a specified directory path.\n",
    "\n",
    "    Args:\n",
    "    - image_size : Image dimensions (depth, height, width).\n",
    "    - data_path  : Path of the directory containing image and label data.\n",
    "\n",
    "    Returns:\n",
    "    - images     :  List of images.\n",
    "                           Shape: (num_images, depth, height, width, channels)\n",
    "    - labels     :  List of labels.\n",
    "                           Shape: (num_images, depth, height, width, channels)\n",
    "    \"\"\"\n",
    "    # Count the number of images in the data path\n",
    "    num_images = len(list(data_path.iterdir()))\n",
    "    images = np.zeros((num_images, *image_size, 1))\n",
    "    \n",
    "    # Progress bar initialization\n",
    "    with tqdm(total=num_images, desc='Loading Progress') as pbar:\n",
    "        idx = 0  \n",
    "        # Loop through each image in the data path\n",
    "        for image_path in data_path.iterdir():\n",
    "            \n",
    "            # Extract the image ID and define the image path\n",
    "            image_id    = image_path.name  \n",
    "            image_path  = data_path / image_id / f'{image_id}_bias.nii.gz'  \n",
    "            \n",
    "            # Read the image and convert into array\n",
    "            image       = sitk.ReadImage(str(image_path))  \n",
    "            image_array = sitk.GetArrayFromImage(image)\n",
    "            image_array = image_array.reshape((*image_size, 1))\n",
    "\n",
    "            # Insert loaded images and labels into arrays\n",
    "            images[idx] = image_array\n",
    "            \n",
    "            pbar.update(1)  \n",
    "\n",
    "    return images\n",
    "\n",
    "# Define the image size\n",
    "IMAGE_SIZE = (256, 128, 256)\n",
    "\n",
    "\n",
    "# Read train and validation images and corresponding lables\n",
    "train_images = load_data(IMAGE_SIZE, TRAIN_DATA_PATH)\n",
    "valid_images = load_data(IMAGE_SIZE, VALID_DATA_PATH)\n",
    "\n"
   ]
  },
  {
   "cell_type": "code",
   "execution_count": 46,
   "id": "6cba45ea-3eea-425c-9fc8-ab2e96565b85",
   "metadata": {},
   "outputs": [
    {
     "data": {
      "text/plain": [
       "(10, 256, 128, 256, 1)"
      ]
     },
     "execution_count": 46,
     "metadata": {},
     "output_type": "execute_result"
    }
   ],
   "source": [
    "train_images.shape"
   ]
  },
  {
   "cell_type": "markdown",
   "id": "1e984903",
   "metadata": {},
   "source": [
    "- **Display bias corrected train and validation images**"
   ]
  },
  {
   "cell_type": "code",
   "execution_count": 36,
   "id": "d12a887f",
   "metadata": {},
   "outputs": [
    {
     "data": {
      "text/plain": [
       "<matplotlib.image.AxesImage at 0x25c1271ca90>"
      ]
     },
     "execution_count": 36,
     "metadata": {},
     "output_type": "execute_result"
    },
    {
     "data": {
      "image/png": "[encoded data removed]",
      "text/plain": [
       "<Figure size 640x480 with 1 Axes>"
      ]
     },
     "metadata": {},
     "output_type": "display_data"
    }
   ],
   "source": [
    "image = sitk.GetArrayFromImage(bias_corrected_train_images[0])  \n",
    "plt.imshow(image[125,:,:], cmap='gray')"
   ]
  },
  {
   "cell_type": "markdown",
   "id": "0525b43d-c43b-4b7b-839c-3b01ff74784a",
   "metadata": {},
   "source": [
    "# Volumn Denosing"
   ]
  },
  {
   "cell_type": "code",
   "execution_count": 50,
   "id": "c114118f-de2e-4e85-bd81-e728ed13af1b",
   "metadata": {},
   "outputs": [],
   "source": [
    "def anisodiff3(stack,niter=1,kappa=50,gamma=0.1,step=(1.,1.,1.),option=1,ploton=False):\n",
    "\n",
    "    # ...you could always diffuse each color channel independently if you\n",
    "    # really want\n",
    "    if stack.ndim == 4:\n",
    "        warnings.warn(\"Only grayscale stacks allowed, converting to 3D matrix\")\n",
    "        stack = stack.mean(3)\n",
    "\n",
    "    # initialize output array\n",
    "    stack    = stack.astype('float32')\n",
    "    stackout = stack.copy()\n",
    "\n",
    "    # initialize some internal variables\n",
    "    deltaS = np.zeros_like(stackout)\n",
    "    deltaE = deltaS.copy()\n",
    "    deltaD = deltaS.copy()\n",
    "    NS = deltaS.copy()\n",
    "    EW = deltaS.copy()\n",
    "    UD = deltaS.copy()\n",
    "    gS = np.ones_like(stackout)\n",
    "    gE = gS.copy()\n",
    "    gD = gS.copy()\n",
    "\n",
    "    # create the plot figure, if requested\n",
    "    if ploton:\n",
    "        import pylab as pl\n",
    "        from time import sleep\n",
    "\n",
    "        showplane = stack.shape[0]//2\n",
    "\n",
    "        fig = pl.figure(figsize=(20,5.5),num=\"Anisotropic diffusion\")\n",
    "        ax1,ax2 = fig.add_subplot(1,2,1),fig.add_subplot(1,2,2)\n",
    "\n",
    "        ax1.imshow(stack[showplane,...].squeeze(),interpolation='nearest')\n",
    "        ih = ax2.imshow(stackout[showplane,...].squeeze(),interpolation='nearest',animated=True)\n",
    "        ax1.set_title(\"Original stack (Z = %i)\" %showplane)\n",
    "        ax2.set_title(\"Iteration 0\")\n",
    "\n",
    "        fig.canvas.draw()\n",
    "\n",
    "    for ii in range(niter):\n",
    "\n",
    "        # calculate the diffs\n",
    "        deltaD[:-1,: ,:  ] = np.diff(stackout,axis=0)\n",
    "        deltaS[:  ,:-1,: ] = np.diff(stackout,axis=1)\n",
    "        deltaE[:  ,: ,:-1] = np.diff(stackout,axis=2)\n",
    "\n",
    "        # conduction gradients (only need to compute one per dim!)\n",
    "        if option == 1:\n",
    "            gD = np.exp(-(deltaD/kappa)**2.)/step[0]\n",
    "            gS = np.exp(-(deltaS/kappa)**2.)/step[1]\n",
    "            gE = np.exp(-(deltaE/kappa)**2.)/step[2]\n",
    "        elif option == 2:\n",
    "            gD = 1./(1.+(deltaD/kappa)**2.)/step[0]\n",
    "            gS = 1./(1.+(deltaS/kappa)**2.)/step[1]\n",
    "            gE = 1./(1.+(deltaE/kappa)**2.)/step[2]\n",
    "\n",
    "        # update matrices\n",
    "        D = gD*deltaD\n",
    "        E = gE*deltaE\n",
    "        S = gS*deltaS\n",
    "\n",
    "        # subtract a copy that has been shifted 'Up/North/West' by one\n",
    "        # pixel. don't as questions. just do it. trust me.\n",
    "        UD[:] = D\n",
    "        NS[:] = S\n",
    "        EW[:] = E\n",
    "        UD[1:,: ,: ] -= D[:-1,:  ,:  ]\n",
    "        NS[: ,1:,: ] -= S[:  ,:-1,:  ]\n",
    "        EW[: ,: ,1:] -= E[:  ,:  ,:-1]\n",
    "\n",
    "        # update the image\n",
    "        stackout += gamma*(UD+NS+EW)\n",
    "\n",
    "        if ploton:\n",
    "            iterstring = \"Iteration %i\" %(ii+1)\n",
    "            ih.set_data(stackout[showplane,...].squeeze())\n",
    "            ax2.set_title(iterstring)\n",
    "            fig.canvas.draw()\n",
    "            # sleep(0.01)\n",
    "\n",
    "    return stackout\n",
    "\n",
    "\n",
    "def denoise_volumes(in_volumes):\n",
    "\n",
    "  n_loop = in_volumes.shape[0]\n",
    "\n",
    "  out_volumes = np.zeros(in_volumes.shape)\n",
    "  #print(out_volumes.shape)\n",
    "\n",
    "  for i in range(0,n_loop,1):\n",
    "    temp = in_volumes[i,:,:,:,:]\n",
    "    temp = anisodiff3(temp,niter=10)\n",
    "    temp = temp.reshape((*temp.shape, 1))\n",
    "    out_volumes[i] = temp\n",
    "\n",
    "  return out_volumes"
   ]
  },
  {
   "cell_type": "code",
   "execution_count": 51,
   "id": "c2c39c3c-5c7a-472e-bbda-f9bbaf59a2e4",
   "metadata": {},
   "outputs": [
    {
     "name": "stderr",
     "output_type": "stream",
     "text": [
      "C:\\Users\\hossa\\AppData\\Local\\Temp\\ipykernel_12708\\3340494670.py:6: UserWarning: Only grayscale stacks allowed, converting to 3D matrix\n",
      "  warnings.warn(\"Only grayscale stacks allowed, converting to 3D matrix\")\n"
     ]
    }
   ],
   "source": [
    "denoised_train_images = denoise_volumes(train_images) "
   ]
  },
  {
   "cell_type": "code",
   "execution_count": 52,
   "id": "eb8a1565-ca95-40bf-bd55-7c9ab9893b9b",
   "metadata": {},
   "outputs": [
    {
     "data": {
      "text/plain": [
       "(10, 256, 128, 256, 1)"
      ]
     },
     "execution_count": 52,
     "metadata": {},
     "output_type": "execute_result"
    }
   ],
   "source": [
    "denoised_train_images.shape"
   ]
  },
  {
   "cell_type": "code",
   "execution_count": 60,
   "id": "6260e629-1784-4203-9fbc-401d38a75c19",
   "metadata": {},
   "outputs": [
    {
     "data": {
      "text/plain": [
       "257.1174621582031"
      ]
     },
     "execution_count": 60,
     "metadata": {},
     "output_type": "execute_result"
    },
    {
     "data": {
      "image/png": "[encoded data removed]",
      "text/plain": [
       "<Figure size 640x480 with 1 Axes>"
      ]
     },
     "metadata": {},
     "output_type": "display_data"
    }
   ],
   "source": [
    "plt.imshow(denoised_train_images[4,200,:,:,:])\n",
    "np.max(denoised_train_images)"
   ]
  },
  {
   "cell_type": "code",
   "execution_count": null,
   "id": "b2e75ced-6025-496c-bd7f-6c005be830aa",
   "metadata": {},
   "outputs": [],
   "source": []
  }
 ],
 "metadata": {
  "kernelspec": {
   "display_name": "Python 3 (ipykernel)",
   "language": "python",
   "name": "python3"
  },
  "language_info": {
   "codemirror_mode": {
    "name": "ipython",
    "version": 3
   },
   "file_extension": ".py",
   "mimetype": "text/x-python",
   "name": "python",
   "nbconvert_exporter": "python",
   "pygments_lexer": "ipython3",
   "version": "3.10.10"
  }
 },
 "nbformat": 4,
 "nbformat_minor": 5
}
